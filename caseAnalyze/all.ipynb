{
 "cells": [
  {
   "cell_type": "code",
   "execution_count": 1,
   "metadata": {},
   "outputs": [],
   "source": [
    "import pandas as pd\n",
    "import matplotlib.pyplot as plt\n",
    "import numpy as np\n",
    "import seaborn as sns"
   ]
  },
  {
   "cell_type": "code",
   "execution_count": 2,
   "metadata": {},
   "outputs": [],
   "source": [
    "stock_by_date_data = pd.DataFrame( pd.read_csv(\"../data/stock_shanghai_all.csv\"),columns=[\"date\",\"close\",\"volume\"])"
   ]
  },
  {
   "cell_type": "code",
   "execution_count": 3,
   "metadata": {},
   "outputs": [
    {
     "data": {
      "text/html": [
       "<div>\n",
       "<style scoped>\n",
       "    .dataframe tbody tr th:only-of-type {\n",
       "        vertical-align: middle;\n",
       "    }\n",
       "\n",
       "    .dataframe tbody tr th {\n",
       "        vertical-align: top;\n",
       "    }\n",
       "\n",
       "    .dataframe thead th {\n",
       "        text-align: right;\n",
       "    }\n",
       "</style>\n",
       "<table border=\"1\" class=\"dataframe\">\n",
       "  <thead>\n",
       "    <tr style=\"text-align: right;\">\n",
       "      <th></th>\n",
       "      <th>date</th>\n",
       "      <th>close</th>\n",
       "      <th>volume</th>\n",
       "    </tr>\n",
       "  </thead>\n",
       "  <tbody>\n",
       "    <tr>\n",
       "      <td>0</td>\n",
       "      <td>2020-01-02</td>\n",
       "      <td>3085.1970</td>\n",
       "      <td>29247020800</td>\n",
       "    </tr>\n",
       "    <tr>\n",
       "      <td>1</td>\n",
       "      <td>2020-01-03</td>\n",
       "      <td>3083.7850</td>\n",
       "      <td>26149666816</td>\n",
       "    </tr>\n",
       "    <tr>\n",
       "      <td>2</td>\n",
       "      <td>2020-01-06</td>\n",
       "      <td>3083.4080</td>\n",
       "      <td>31257584128</td>\n",
       "    </tr>\n",
       "    <tr>\n",
       "      <td>3</td>\n",
       "      <td>2020-01-07</td>\n",
       "      <td>3104.8010</td>\n",
       "      <td>27658311168</td>\n",
       "    </tr>\n",
       "    <tr>\n",
       "      <td>4</td>\n",
       "      <td>2020-01-08</td>\n",
       "      <td>3066.8920</td>\n",
       "      <td>29787255296</td>\n",
       "    </tr>\n",
       "    <tr>\n",
       "      <td>...</td>\n",
       "      <td>...</td>\n",
       "      <td>...</td>\n",
       "      <td>...</td>\n",
       "    </tr>\n",
       "    <tr>\n",
       "      <td>238</td>\n",
       "      <td>2020-12-25</td>\n",
       "      <td>3396.5626</td>\n",
       "      <td>29454689500</td>\n",
       "    </tr>\n",
       "    <tr>\n",
       "      <td>239</td>\n",
       "      <td>2020-12-28</td>\n",
       "      <td>3397.2854</td>\n",
       "      <td>31618154200</td>\n",
       "    </tr>\n",
       "    <tr>\n",
       "      <td>240</td>\n",
       "      <td>2020-12-29</td>\n",
       "      <td>3379.0362</td>\n",
       "      <td>31176918500</td>\n",
       "    </tr>\n",
       "    <tr>\n",
       "      <td>241</td>\n",
       "      <td>2020-12-30</td>\n",
       "      <td>3414.4527</td>\n",
       "      <td>29102354300</td>\n",
       "    </tr>\n",
       "    <tr>\n",
       "      <td>242</td>\n",
       "      <td>2020-12-31</td>\n",
       "      <td>3473.0693</td>\n",
       "      <td>33567392600</td>\n",
       "    </tr>\n",
       "  </tbody>\n",
       "</table>\n",
       "<p>243 rows × 3 columns</p>\n",
       "</div>"
      ],
      "text/plain": [
       "           date      close       volume\n",
       "0    2020-01-02  3085.1970  29247020800\n",
       "1    2020-01-03  3083.7850  26149666816\n",
       "2    2020-01-06  3083.4080  31257584128\n",
       "3    2020-01-07  3104.8010  27658311168\n",
       "4    2020-01-08  3066.8920  29787255296\n",
       "..          ...        ...          ...\n",
       "238  2020-12-25  3396.5626  29454689500\n",
       "239  2020-12-28  3397.2854  31618154200\n",
       "240  2020-12-29  3379.0362  31176918500\n",
       "241  2020-12-30  3414.4527  29102354300\n",
       "242  2020-12-31  3473.0693  33567392600\n",
       "\n",
       "[243 rows x 3 columns]"
      ]
     },
     "execution_count": 3,
     "metadata": {},
     "output_type": "execute_result"
    }
   ],
   "source": [
    "stock_by_date_data"
   ]
  },
  {
   "cell_type": "code",
   "execution_count": null,
   "metadata": {},
   "outputs": [],
   "source": [
    "stock_by_section_data =  pd.DataFrame( pd.read_csv(\"../data/stock_shanghai_all.csv\"),columns=[\"date\",\"close\",\"volume\"])"
   ]
  }
 ],
 "metadata": {
  "kernelspec": {
   "display_name": "Python 3",
   "language": "python",
   "name": "python3"
  },
  "language_info": {
   "codemirror_mode": {
    "name": "ipython",
    "version": 3
   },
   "file_extension": ".py",
   "mimetype": "text/x-python",
   "name": "python",
   "nbconvert_exporter": "python",
   "pygments_lexer": "ipython3",
   "version": "3.7.4"
  }
 },
 "nbformat": 4,
 "nbformat_minor": 2
}
